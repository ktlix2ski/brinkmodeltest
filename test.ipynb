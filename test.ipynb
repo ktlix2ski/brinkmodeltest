{
 "cells": [
  {
   "cell_type": "code",
   "execution_count": 1,
   "id": "5150b0dc",
   "metadata": {},
   "outputs": [],
   "source": [
    "import numpy as np"
   ]
  },
  {
   "cell_type": "code",
   "execution_count": 46,
   "id": "8d978b52",
   "metadata": {},
   "outputs": [
    {
     "name": "stdout",
     "output_type": "stream",
     "text": [
      "95\n",
      "4.0101011\n"
     ]
    }
   ],
   "source": [
    "time = 95.9898989\n",
    "r = time % 100\n",
    "r2 = 100 % time \n",
    "r = int(r)\n",
    "print(r)\n",
    "print(r2)\n"
   ]
  },
  {
   "cell_type": "code",
   "execution_count": 47,
   "id": "89b7eadc",
   "metadata": {},
   "outputs": [
    {
     "name": "stdout",
     "output_type": "stream",
     "text": [
      "40\n"
     ]
    }
   ],
   "source": [
    "if time % 100 <= 5 or 100 % time <= 5:\n",
    "    if time % 100 <= 5:\n",
    "        r1 = time % 1000\n",
    "        r1 = int(r1)\n",
    "        print(r1)\n",
    "    elif 100 % time <= 5:\n",
    "        r2 = 1000 % time \n",
    "        r2 = int(r2)\n",
    "        print(r2)"
   ]
  },
  {
   "cell_type": "code",
   "execution_count": 48,
   "id": "8f631d12",
   "metadata": {},
   "outputs": [
    {
     "name": "stdout",
     "output_type": "stream",
     "text": [
      "Trigger!\n"
     ]
    }
   ],
   "source": [
    "if abs(time % 100) <= 5 or abs(time % 100 - 100) <= 5:\n",
    "    print(\"Trigger!\")"
   ]
  },
  {
   "cell_type": "code",
   "execution_count": null,
   "id": "22ee9bfc",
   "metadata": {},
   "outputs": [],
   "source": []
  }
 ],
 "metadata": {
  "kernelspec": {
   "display_name": "firedrake",
   "language": "python",
   "name": "python3"
  },
  "language_info": {
   "codemirror_mode": {
    "name": "ipython",
    "version": 3
   },
   "file_extension": ".py",
   "mimetype": "text/x-python",
   "name": "python",
   "nbconvert_exporter": "python",
   "pygments_lexer": "ipython3",
   "version": "3.10.12"
  }
 },
 "nbformat": 4,
 "nbformat_minor": 5
}
